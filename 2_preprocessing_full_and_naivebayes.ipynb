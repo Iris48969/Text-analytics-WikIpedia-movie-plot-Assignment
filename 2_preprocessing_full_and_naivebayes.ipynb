{
 "cells": [
  {
   "cell_type": "code",
   "execution_count": 1,
   "id": "initial_id",
   "metadata": {
    "ExecuteTime": {
     "end_time": "2024-06-04T04:20:52.384918800Z",
     "start_time": "2024-06-04T04:20:52.301394800Z"
    },
    "id": "initial_id",
    "tags": []
   },
   "outputs": [],
   "source": [
    "import pandas as pd\n",
    "import re\n",
    "from nltk.corpus import stopwords\n",
    "from nltk.tokenize import word_tokenize\n",
    "from nltk.stem import WordNetLemmatizer"
   ]
  },
  {
   "cell_type": "code",
   "execution_count": 2,
   "id": "722ce30e7d00b6ec",
   "metadata": {
    "ExecuteTime": {
     "end_time": "2024-06-03T10:59:05.509292900Z",
     "start_time": "2024-06-03T10:59:00.489639400Z"
    },
    "collapsed": false,
    "id": "722ce30e7d00b6ec",
    "jupyter": {
     "outputs_hidden": false
    },
    "outputId": "a21d3e58-9421-4045-f04f-d7412cbca346",
    "tags": []
   },
   "outputs": [
    {
     "name": "stderr",
     "output_type": "stream",
     "text": [
      "[nltk_data] Downloading package stopwords to /Users/Meiji/nltk_data...\n",
      "[nltk_data]   Package stopwords is already up-to-date!\n",
      "[nltk_data] Downloading package punkt to /Users/Meiji/nltk_data...\n",
      "[nltk_data]   Package punkt is already up-to-date!\n",
      "[nltk_data] Downloading package wordnet to /Users/Meiji/nltk_data...\n",
      "[nltk_data]   Package wordnet is already up-to-date!\n"
     ]
    },
    {
     "data": {
      "text/plain": [
       "True"
      ]
     },
     "execution_count": 2,
     "metadata": {},
     "output_type": "execute_result"
    }
   ],
   "source": [
    "import nltk\n",
    "nltk.download('stopwords')\n",
    "nltk.download('punkt')\n",
    "nltk.download('wordnet')"
   ]
  },
  {
   "cell_type": "markdown",
   "id": "6fb9e8b1-ea66-46a7-8362-f6b90731486e",
   "metadata": {
    "id": "6fb9e8b1-ea66-46a7-8362-f6b90731486e"
   },
   "source": [
    "# Load Data"
   ]
  },
  {
   "cell_type": "code",
   "execution_count": 3,
   "id": "c1349796420625b9",
   "metadata": {
    "ExecuteTime": {
     "end_time": "2024-06-03T11:01:47.028396400Z",
     "start_time": "2024-06-03T11:01:46.121693Z"
    },
    "collapsed": false,
    "id": "c1349796420625b9",
    "jupyter": {
     "outputs_hidden": false
    },
    "outputId": "2ce570da-6b16-4396-9f84-9983801eb8d6",
    "tags": []
   },
   "outputs": [
    {
     "data": {
      "text/html": [
       "<div>\n",
       "<style scoped>\n",
       "    .dataframe tbody tr th:only-of-type {\n",
       "        vertical-align: middle;\n",
       "    }\n",
       "\n",
       "    .dataframe tbody tr th {\n",
       "        vertical-align: top;\n",
       "    }\n",
       "\n",
       "    .dataframe thead th {\n",
       "        text-align: right;\n",
       "    }\n",
       "</style>\n",
       "<table border=\"1\" class=\"dataframe\">\n",
       "  <thead>\n",
       "    <tr style=\"text-align: right;\">\n",
       "      <th></th>\n",
       "      <th>Release Year</th>\n",
       "      <th>Title</th>\n",
       "      <th>Origin/Ethnicity</th>\n",
       "      <th>Director</th>\n",
       "      <th>Cast</th>\n",
       "      <th>Genre</th>\n",
       "      <th>Wiki Page</th>\n",
       "      <th>Plot</th>\n",
       "    </tr>\n",
       "  </thead>\n",
       "  <tbody>\n",
       "    <tr>\n",
       "      <th>0</th>\n",
       "      <td>1901</td>\n",
       "      <td>Kansas Saloon Smashers</td>\n",
       "      <td>American</td>\n",
       "      <td>Unknown</td>\n",
       "      <td>NaN</td>\n",
       "      <td>unknown</td>\n",
       "      <td>https://en.wikipedia.org/wiki/Kansas_Saloon_Sm...</td>\n",
       "      <td>A bartender is working at a saloon, serving dr...</td>\n",
       "    </tr>\n",
       "    <tr>\n",
       "      <th>1</th>\n",
       "      <td>1901</td>\n",
       "      <td>Love by the Light of the Moon</td>\n",
       "      <td>American</td>\n",
       "      <td>Unknown</td>\n",
       "      <td>NaN</td>\n",
       "      <td>unknown</td>\n",
       "      <td>https://en.wikipedia.org/wiki/Love_by_the_Ligh...</td>\n",
       "      <td>The moon, painted with a smiling face hangs ov...</td>\n",
       "    </tr>\n",
       "    <tr>\n",
       "      <th>2</th>\n",
       "      <td>1901</td>\n",
       "      <td>The Martyred Presidents</td>\n",
       "      <td>American</td>\n",
       "      <td>Unknown</td>\n",
       "      <td>NaN</td>\n",
       "      <td>unknown</td>\n",
       "      <td>https://en.wikipedia.org/wiki/The_Martyred_Pre...</td>\n",
       "      <td>The film, just over a minute long, is composed...</td>\n",
       "    </tr>\n",
       "    <tr>\n",
       "      <th>3</th>\n",
       "      <td>1901</td>\n",
       "      <td>Terrible Teddy, the Grizzly King</td>\n",
       "      <td>American</td>\n",
       "      <td>Unknown</td>\n",
       "      <td>NaN</td>\n",
       "      <td>unknown</td>\n",
       "      <td>https://en.wikipedia.org/wiki/Terrible_Teddy,_...</td>\n",
       "      <td>Lasting just 61 seconds and consisting of two ...</td>\n",
       "    </tr>\n",
       "    <tr>\n",
       "      <th>4</th>\n",
       "      <td>1902</td>\n",
       "      <td>Jack and the Beanstalk</td>\n",
       "      <td>American</td>\n",
       "      <td>George S. Fleming, Edwin S. Porter</td>\n",
       "      <td>NaN</td>\n",
       "      <td>unknown</td>\n",
       "      <td>https://en.wikipedia.org/wiki/Jack_and_the_Bea...</td>\n",
       "      <td>The earliest known adaptation of the classic f...</td>\n",
       "    </tr>\n",
       "  </tbody>\n",
       "</table>\n",
       "</div>"
      ],
      "text/plain": [
       "   Release Year                             Title Origin/Ethnicity  \\\n",
       "0          1901            Kansas Saloon Smashers         American   \n",
       "1          1901     Love by the Light of the Moon         American   \n",
       "2          1901           The Martyred Presidents         American   \n",
       "3          1901  Terrible Teddy, the Grizzly King         American   \n",
       "4          1902            Jack and the Beanstalk         American   \n",
       "\n",
       "                             Director Cast    Genre  \\\n",
       "0                             Unknown  NaN  unknown   \n",
       "1                             Unknown  NaN  unknown   \n",
       "2                             Unknown  NaN  unknown   \n",
       "3                             Unknown  NaN  unknown   \n",
       "4  George S. Fleming, Edwin S. Porter  NaN  unknown   \n",
       "\n",
       "                                           Wiki Page  \\\n",
       "0  https://en.wikipedia.org/wiki/Kansas_Saloon_Sm...   \n",
       "1  https://en.wikipedia.org/wiki/Love_by_the_Ligh...   \n",
       "2  https://en.wikipedia.org/wiki/The_Martyred_Pre...   \n",
       "3  https://en.wikipedia.org/wiki/Terrible_Teddy,_...   \n",
       "4  https://en.wikipedia.org/wiki/Jack_and_the_Bea...   \n",
       "\n",
       "                                                Plot  \n",
       "0  A bartender is working at a saloon, serving dr...  \n",
       "1  The moon, painted with a smiling face hangs ov...  \n",
       "2  The film, just over a minute long, is composed...  \n",
       "3  Lasting just 61 seconds and consisting of two ...  \n",
       "4  The earliest known adaptation of the classic f...  "
      ]
     },
     "execution_count": 3,
     "metadata": {},
     "output_type": "execute_result"
    }
   ],
   "source": [
    "wiki_movie_plots = pd.read_csv('wiki_movie_plots_deduped.csv')\n",
    "wiki_movie_plots.head()"
   ]
  },
  {
   "cell_type": "code",
   "execution_count": 4,
   "id": "f9bd5ba7-c3f0-4e59-af82-b081c1e34148",
   "metadata": {
    "id": "f9bd5ba7-c3f0-4e59-af82-b081c1e34148",
    "outputId": "39c1c6ac-c0b9-4288-8a85-6bb0f389a5d3",
    "tags": []
   },
   "outputs": [
    {
     "name": "stdout",
     "output_type": "stream",
     "text": [
      ">> Number of raw genres: 2265\n",
      ">> Number of raw rows: 34886\n"
     ]
    }
   ],
   "source": [
    "all_genres = list(wiki_movie_plots['Genre'].unique())\n",
    "print('>> Number of raw genres:', len(all_genres))\n",
    "print('>> Number of raw rows:', wiki_movie_plots.shape[0])"
   ]
  },
  {
   "cell_type": "markdown",
   "id": "8a8a3880-7fe8-46de-81d0-471761427574",
   "metadata": {
    "id": "8a8a3880-7fe8-46de-81d0-471761427574",
    "tags": []
   },
   "source": [
    "# Preprocessing genres\n",
    "\n",
    "- Standardize so that each movie's genre(s) can belong to one or more of the 20 following:\n",
    "  ```\n",
    "  {'action', 'adventure', 'animated', 'biographical', 'comedy', 'crime',\n",
    "                  'drama', 'fantasy', 'history', 'horror', 'music', 'mystery',\n",
    "                  'romance', 'scifi', 'sport', 'thriller', 'war', 'western', 'documentary'}\n",
    "  ```\n",
    "- Remove any movies with `Genre` column not containing any of the above standard genres\n",
    "- One-Hot-Encoding so that there are 20 binary genre columns"
   ]
  },
  {
   "cell_type": "code",
   "execution_count": 5,
   "id": "08970528-71a7-4d2f-9b7f-e484d0363c95",
   "metadata": {
    "id": "08970528-71a7-4d2f-9b7f-e484d0363c95",
    "tags": []
   },
   "outputs": [],
   "source": [
    "ALLOWED_GENRES = {'action', 'adventure', 'animated', 'biographical', 'comedy', 'crime',\n",
    "                  'drama', 'fantasy', 'history', 'horror', 'music', 'mystery',\n",
    "                  'romance', 'scifi', 'sport', 'thriller', 'war', 'western', 'documentary'}"
   ]
  },
  {
   "cell_type": "code",
   "execution_count": 6,
   "id": "81442161-812f-4b93-b800-6b2ac2929c8f",
   "metadata": {
    "id": "81442161-812f-4b93-b800-6b2ac2929c8f",
    "tags": []
   },
   "outputs": [],
   "source": [
    "def preprocess_genres(genre_string):\n",
    "\n",
    "    \"\"\"\n",
    "    Processes a single genre string by first splitting it on non-hyphen non-alphanumeric characters, applying\n",
    "    predefined replacements to standardize genre names, splitting again by hyphens, and then filtering genres\n",
    "    against a predefined list. Any genre not in the allowed list is classified as \"other\".\n",
    "\n",
    "    Parameters:\n",
    "    - genre_string (str): A string containing multiple genre descriptions which may include separators like commas or slashes.\n",
    "\n",
    "    Returns:\n",
    "    - str: A comma-separated sorted list of unique genre names standardized according to a predefined list of allowed genres.\n",
    "            Unrecognized genres are labeled as \"other\".\n",
    "\n",
    "    This function ensures that genre names are consistent and categorized, facilitating easier analysis and usage in\n",
    "    data processing tasks.\n",
    "\n",
    "    Example:\n",
    "    genre_string = \"sci-fi, romantic-comedy, epic-war, unknown style, crime-drama\"\n",
    "    result = preprocess_genres(genre_string)\n",
    "    print(result)  # Output might include 'scifi', 'romance', 'war', 'other', etc., based on the input and settings.\n",
    "    \"\"\"\n",
    "\n",
    "    replacements = {\n",
    "        'biodrama': 'biographical-drama',\n",
    "        'docudrama': 'documentary-drama',\n",
    "        'melodrama': 'drama',\n",
    "        'sci-fi': 'scifi',\n",
    "        'science-fiction': 'scifi',\n",
    "        'science fiction': 'scifi',\n",
    "        'rom com': 'romance-comedy',\n",
    "        'romcom': 'romance-comedy',\n",
    "        'rom-com': 'romance-comedy',\n",
    "        'romantic comedy': 'romance-comedy',\n",
    "        'romantic': 'romance',\n",
    "        'rom-comedy': 'romance-comedy',\n",
    "        'bio': 'biographical',\n",
    "        'biographic': 'biographical',\n",
    "        'biography': 'biographical',\n",
    "        'anime': 'animated',\n",
    "        'animation': 'animated'\n",
    "    }\n",
    "\n",
    "    # Convert to lowercase and perform initial splitting\n",
    "    genres = re.split(r'[^a-zA-Z0-9\\-]+', genre_string.lower())\n",
    "\n",
    "    processed_genres = set()\n",
    "    for genre in genres:\n",
    "        # Apply replacements\n",
    "        for old, new in replacements.items():\n",
    "            genre = re.sub(r'\\b{}\\b'.format(re.escape(old)), new, genre)\n",
    "\n",
    "        # Split by hyphens and validate genres\n",
    "        subgenres = genre.split('-')\n",
    "        for subgenre in subgenres:\n",
    "            clean_subgenre = subgenre.strip()\n",
    "            if clean_subgenre in ALLOWED_GENRES:\n",
    "                processed_genres.add(clean_subgenre)\n",
    "            elif clean_subgenre:\n",
    "                processed_genres.add('other')\n",
    "\n",
    "    processed_genres = [i for i in processed_genres if i not in [\" \", \"-\"]]\n",
    "    \n",
    "    return ','.join(sorted(processed_genres))"
   ]
  },
  {
   "cell_type": "code",
   "execution_count": 7,
   "id": "1989a912-8482-44f0-98bd-b47081445128",
   "metadata": {
    "id": "1989a912-8482-44f0-98bd-b47081445128",
    "outputId": "220cab05-bb46-4e2d-8d6b-6b597acfdccf",
    "tags": []
   },
   "outputs": [
    {
     "name": "stdout",
     "output_type": "stream",
     "text": [
      "0                 other\n",
      "1                 other\n",
      "2                 other\n",
      "3                 other\n",
      "4                 other\n",
      "              ...      \n",
      "34881             other\n",
      "34882            comedy\n",
      "34883            comedy\n",
      "34884    comedy,romance\n",
      "34885           romance\n",
      "Name: Genre, Length: 34886, dtype: object\n"
     ]
    }
   ],
   "source": [
    "# Apply the preprocessing\n",
    "genres_processed = pd.Series(wiki_movie_plots['Genre']).apply(preprocess_genres)\n",
    "print(genres_processed)"
   ]
  },
  {
   "cell_type": "code",
   "execution_count": 8,
   "id": "97be5543-53dc-45cc-9967-e0c07ef112e2",
   "metadata": {
    "id": "97be5543-53dc-45cc-9967-e0c07ef112e2",
    "outputId": "a172d85a-c57a-4239-debc-6082e35e8ef7",
    "tags": []
   },
   "outputs": [],
   "source": [
    "# Create a 0-1 binary column for each genre in the list, and append back to the dataframe\n",
    "wiki_movie_plots_processed = pd.concat([wiki_movie_plots, genres_processed.str.get_dummies(sep=',')], axis=1)"
   ]
  },
  {
   "cell_type": "code",
   "execution_count": 9,
   "id": "fc8efcb0-9ff7-41c7-9a70-0b1345372adc",
   "metadata": {
    "id": "fc8efcb0-9ff7-41c7-9a70-0b1345372adc",
    "tags": []
   },
   "outputs": [
    {
     "data": {
      "text/html": [
       "<div>\n",
       "<style scoped>\n",
       "    .dataframe tbody tr th:only-of-type {\n",
       "        vertical-align: middle;\n",
       "    }\n",
       "\n",
       "    .dataframe tbody tr th {\n",
       "        vertical-align: top;\n",
       "    }\n",
       "\n",
       "    .dataframe thead th {\n",
       "        text-align: right;\n",
       "    }\n",
       "</style>\n",
       "<table border=\"1\" class=\"dataframe\">\n",
       "  <thead>\n",
       "    <tr style=\"text-align: right;\">\n",
       "      <th></th>\n",
       "      <th>Release Year</th>\n",
       "      <th>Title</th>\n",
       "      <th>Origin/Ethnicity</th>\n",
       "      <th>Director</th>\n",
       "      <th>Cast</th>\n",
       "      <th>Genre</th>\n",
       "      <th>Wiki Page</th>\n",
       "      <th>Plot</th>\n",
       "      <th>action</th>\n",
       "      <th>adventure</th>\n",
       "      <th>...</th>\n",
       "      <th>history</th>\n",
       "      <th>horror</th>\n",
       "      <th>music</th>\n",
       "      <th>mystery</th>\n",
       "      <th>romance</th>\n",
       "      <th>scifi</th>\n",
       "      <th>sport</th>\n",
       "      <th>thriller</th>\n",
       "      <th>war</th>\n",
       "      <th>western</th>\n",
       "    </tr>\n",
       "  </thead>\n",
       "  <tbody>\n",
       "    <tr>\n",
       "      <th>0</th>\n",
       "      <td>1901</td>\n",
       "      <td>Kansas Saloon Smashers</td>\n",
       "      <td>American</td>\n",
       "      <td>Unknown</td>\n",
       "      <td>NaN</td>\n",
       "      <td>unknown</td>\n",
       "      <td>https://en.wikipedia.org/wiki/Kansas_Saloon_Sm...</td>\n",
       "      <td>A bartender is working at a saloon, serving dr...</td>\n",
       "      <td>0</td>\n",
       "      <td>0</td>\n",
       "      <td>...</td>\n",
       "      <td>0</td>\n",
       "      <td>0</td>\n",
       "      <td>0</td>\n",
       "      <td>0</td>\n",
       "      <td>0</td>\n",
       "      <td>0</td>\n",
       "      <td>0</td>\n",
       "      <td>0</td>\n",
       "      <td>0</td>\n",
       "      <td>0</td>\n",
       "    </tr>\n",
       "    <tr>\n",
       "      <th>1</th>\n",
       "      <td>1901</td>\n",
       "      <td>Love by the Light of the Moon</td>\n",
       "      <td>American</td>\n",
       "      <td>Unknown</td>\n",
       "      <td>NaN</td>\n",
       "      <td>unknown</td>\n",
       "      <td>https://en.wikipedia.org/wiki/Love_by_the_Ligh...</td>\n",
       "      <td>The moon, painted with a smiling face hangs ov...</td>\n",
       "      <td>0</td>\n",
       "      <td>0</td>\n",
       "      <td>...</td>\n",
       "      <td>0</td>\n",
       "      <td>0</td>\n",
       "      <td>0</td>\n",
       "      <td>0</td>\n",
       "      <td>0</td>\n",
       "      <td>0</td>\n",
       "      <td>0</td>\n",
       "      <td>0</td>\n",
       "      <td>0</td>\n",
       "      <td>0</td>\n",
       "    </tr>\n",
       "    <tr>\n",
       "      <th>2</th>\n",
       "      <td>1901</td>\n",
       "      <td>The Martyred Presidents</td>\n",
       "      <td>American</td>\n",
       "      <td>Unknown</td>\n",
       "      <td>NaN</td>\n",
       "      <td>unknown</td>\n",
       "      <td>https://en.wikipedia.org/wiki/The_Martyred_Pre...</td>\n",
       "      <td>The film, just over a minute long, is composed...</td>\n",
       "      <td>0</td>\n",
       "      <td>0</td>\n",
       "      <td>...</td>\n",
       "      <td>0</td>\n",
       "      <td>0</td>\n",
       "      <td>0</td>\n",
       "      <td>0</td>\n",
       "      <td>0</td>\n",
       "      <td>0</td>\n",
       "      <td>0</td>\n",
       "      <td>0</td>\n",
       "      <td>0</td>\n",
       "      <td>0</td>\n",
       "    </tr>\n",
       "    <tr>\n",
       "      <th>3</th>\n",
       "      <td>1901</td>\n",
       "      <td>Terrible Teddy, the Grizzly King</td>\n",
       "      <td>American</td>\n",
       "      <td>Unknown</td>\n",
       "      <td>NaN</td>\n",
       "      <td>unknown</td>\n",
       "      <td>https://en.wikipedia.org/wiki/Terrible_Teddy,_...</td>\n",
       "      <td>Lasting just 61 seconds and consisting of two ...</td>\n",
       "      <td>0</td>\n",
       "      <td>0</td>\n",
       "      <td>...</td>\n",
       "      <td>0</td>\n",
       "      <td>0</td>\n",
       "      <td>0</td>\n",
       "      <td>0</td>\n",
       "      <td>0</td>\n",
       "      <td>0</td>\n",
       "      <td>0</td>\n",
       "      <td>0</td>\n",
       "      <td>0</td>\n",
       "      <td>0</td>\n",
       "    </tr>\n",
       "    <tr>\n",
       "      <th>4</th>\n",
       "      <td>1902</td>\n",
       "      <td>Jack and the Beanstalk</td>\n",
       "      <td>American</td>\n",
       "      <td>George S. Fleming, Edwin S. Porter</td>\n",
       "      <td>NaN</td>\n",
       "      <td>unknown</td>\n",
       "      <td>https://en.wikipedia.org/wiki/Jack_and_the_Bea...</td>\n",
       "      <td>The earliest known adaptation of the classic f...</td>\n",
       "      <td>0</td>\n",
       "      <td>0</td>\n",
       "      <td>...</td>\n",
       "      <td>0</td>\n",
       "      <td>0</td>\n",
       "      <td>0</td>\n",
       "      <td>0</td>\n",
       "      <td>0</td>\n",
       "      <td>0</td>\n",
       "      <td>0</td>\n",
       "      <td>0</td>\n",
       "      <td>0</td>\n",
       "      <td>0</td>\n",
       "    </tr>\n",
       "  </tbody>\n",
       "</table>\n",
       "<p>5 rows × 27 columns</p>\n",
       "</div>"
      ],
      "text/plain": [
       "   Release Year                             Title Origin/Ethnicity  \\\n",
       "0          1901            Kansas Saloon Smashers         American   \n",
       "1          1901     Love by the Light of the Moon         American   \n",
       "2          1901           The Martyred Presidents         American   \n",
       "3          1901  Terrible Teddy, the Grizzly King         American   \n",
       "4          1902            Jack and the Beanstalk         American   \n",
       "\n",
       "                             Director Cast    Genre  \\\n",
       "0                             Unknown  NaN  unknown   \n",
       "1                             Unknown  NaN  unknown   \n",
       "2                             Unknown  NaN  unknown   \n",
       "3                             Unknown  NaN  unknown   \n",
       "4  George S. Fleming, Edwin S. Porter  NaN  unknown   \n",
       "\n",
       "                                           Wiki Page  \\\n",
       "0  https://en.wikipedia.org/wiki/Kansas_Saloon_Sm...   \n",
       "1  https://en.wikipedia.org/wiki/Love_by_the_Ligh...   \n",
       "2  https://en.wikipedia.org/wiki/The_Martyred_Pre...   \n",
       "3  https://en.wikipedia.org/wiki/Terrible_Teddy,_...   \n",
       "4  https://en.wikipedia.org/wiki/Jack_and_the_Bea...   \n",
       "\n",
       "                                                Plot  action  adventure  ...  \\\n",
       "0  A bartender is working at a saloon, serving dr...       0          0  ...   \n",
       "1  The moon, painted with a smiling face hangs ov...       0          0  ...   \n",
       "2  The film, just over a minute long, is composed...       0          0  ...   \n",
       "3  Lasting just 61 seconds and consisting of two ...       0          0  ...   \n",
       "4  The earliest known adaptation of the classic f...       0          0  ...   \n",
       "\n",
       "   history  horror  music  mystery  romance  scifi  sport  thriller  war  \\\n",
       "0        0       0      0        0        0      0      0         0    0   \n",
       "1        0       0      0        0        0      0      0         0    0   \n",
       "2        0       0      0        0        0      0      0         0    0   \n",
       "3        0       0      0        0        0      0      0         0    0   \n",
       "4        0       0      0        0        0      0      0         0    0   \n",
       "\n",
       "   western  \n",
       "0        0  \n",
       "1        0  \n",
       "2        0  \n",
       "3        0  \n",
       "4        0  \n",
       "\n",
       "[5 rows x 27 columns]"
      ]
     },
     "execution_count": 9,
     "metadata": {},
     "output_type": "execute_result"
    }
   ],
   "source": [
    "# Filter rows with at least 1 specific (non-other) genre, and remove the other column.\n",
    "wiki_movie_plots_processed = wiki_movie_plots_processed.drop('other', axis=1)\n",
    "wiki_movie_plots_processed.head()"
   ]
  },
  {
   "cell_type": "markdown",
   "id": "7479dd03-1e02-49d2-9823-afede2312dbf",
   "metadata": {},
   "source": [
    "# Multi label dataset"
   ]
  },
  {
   "cell_type": "code",
   "execution_count": 11,
   "id": "0454d569-727f-4561-8abe-4cea8d08c60f",
   "metadata": {
    "tags": []
   },
   "outputs": [
    {
     "name": "stdout",
     "output_type": "stream",
     "text": [
      ">> Number of raw rows: 34886\n",
      ">> Number of processed rows: 25962\n",
      "0.7441953792352233\n"
     ]
    }
   ],
   "source": [
    "multi_label = wiki_movie_plots_processed[wiki_movie_plots_processed.iloc[:,8:].sum(axis=1)>0]\n",
    "print('>> Number of raw rows:', wiki_movie_plots.shape[0])\n",
    "print('>> Number of processed rows:', multi_label.shape[0])\n",
    "\n",
    "print(multi_label.shape[0]/wiki_movie_plots.shape[0])"
   ]
  },
  {
   "cell_type": "code",
   "execution_count": 12,
   "id": "4e92027f-f9e4-4985-85c1-f20d5b572d6b",
   "metadata": {
    "tags": []
   },
   "outputs": [
    {
     "name": "stdout",
     "output_type": "stream",
     "text": [
      "1    20602\n",
      "2     4694\n",
      "3      536\n",
      "4      111\n",
      "5       17\n",
      "6        1\n",
      "7        1\n",
      "Name: count, dtype: int64\n"
     ]
    },
    {
     "data": {
      "text/plain": [
       "<Axes: xlabel='Number of genres', ylabel='Movie count'>"
      ]
     },
     "execution_count": 12,
     "metadata": {},
     "output_type": "execute_result"
    },
    {
     "data": {
      "image/png": "[encoded data removed]",
      "text/plain": [
       "<Figure size 640x480 with 1 Axes>"
      ]
     },
     "metadata": {},
     "output_type": "display_data"
    }
   ],
   "source": [
    "# Count of movies\n",
    "print(multi_label.iloc[:,8:].sum(axis=1).value_counts())\n",
    "multi_label.iloc[:,8:].sum(axis=1).value_counts().plot.bar(xlabel='Number of genres', ylabel='Movie count')"
   ]
  },
  {
   "cell_type": "code",
   "execution_count": 14,
   "id": "bc4b59df-3b54-494f-80d8-a6518f0cdb72",
   "metadata": {
    "tags": []
   },
   "outputs": [
    {
     "data": {
      "image/png": "[encoded data removed]",
      "text/plain": [
       "<Figure size 800x600 with 2 Axes>"
      ]
     },
     "metadata": {},
     "output_type": "display_data"
    }
   ],
   "source": [
    "import seaborn as sns\n",
    "import matplotlib.pyplot as plt\n",
    "import numpy as np\n",
    "\n",
    "# Compute the co-occurrence matrix\n",
    "df = multi_label.iloc[:,8:]\n",
    "\n",
    "co_occurrence_matrix = np.dot(df.T, df)\n",
    "\n",
    "# Set the diagonal values to zero\n",
    "np.fill_diagonal(co_occurrence_matrix, 0)\n",
    "\n",
    "# Compute the counts of each genre\n",
    "genre_counts = df.sum(axis=0).values\n",
    "\n",
    "# Create a matrix of the maximum counts for normalization\n",
    "max_counts_matrix = np.maximum.outer(genre_counts, genre_counts)\n",
    "\n",
    "# Normalize the co-occurrence matrix by the maximum counts of each genre pair\n",
    "normalized_co_occurrence_matrix = co_occurrence_matrix / max_counts_matrix\n",
    "\n",
    "# Convert the matrix to a DataFrame\n",
    "normalized_co_occurrence_df = pd.DataFrame(normalized_co_occurrence_matrix, index=df.columns, columns=df.columns)\n",
    "\n",
    "# Plotting the heatmap\n",
    "plt.figure(figsize=(8, 6))\n",
    "sns.heatmap(normalized_co_occurrence_df, annot=False, cmap='Reds', mask=np.triu(np.ones_like(normalized_co_occurrence_df)))\n",
    "plt.title('Normalized Co-occurence of Genres')\n",
    "plt.show()"
   ]
  },
  {
   "cell_type": "markdown",
   "id": "9dbcd084-b9dc-47e5-8fb5-6e6ba40c479e",
   "metadata": {},
   "source": [
    "# Single label dataset (multiclass)"
   ]
  },
  {
   "cell_type": "code",
   "execution_count": 15,
   "id": "54256c26-9a21-49cd-aaa7-580a70c1e61e",
   "metadata": {
    "tags": []
   },
   "outputs": [
    {
     "name": "stdout",
     "output_type": "stream",
     "text": [
      ">> Number of movies with only 1 genre: 20602\n",
      ">> Number of raw rows: 34886\n",
      "0.5905520839305165\n"
     ]
    }
   ],
   "source": [
    "single_label = wiki_movie_plots_processed[wiki_movie_plots_processed.iloc[:,8:].sum(axis=1)==1]\n",
    "print(\">> Number of movies with only 1 genre:\", single_label.shape[0])\n",
    "print('>> Number of raw rows:', wiki_movie_plots.shape[0])\n",
    "print(single_label.shape[0]/wiki_movie_plots.shape[0])"
   ]
  },
  {
   "cell_type": "code",
   "execution_count": 14,
   "id": "26bc8898-a556-4324-98d8-8e169c599dd6",
   "metadata": {},
   "outputs": [
    {
     "data": {
      "text/plain": [
       "<Axes: ylabel='Movie count'>"
      ]
     },
     "execution_count": 14,
     "metadata": {},
     "output_type": "execute_result"
    },
    {
     "data": {
      "image/png": "[encoded data removed]",
      "text/plain": [
       "<Figure size 640x480 with 1 Axes>"
      ]
     },
     "metadata": {},
     "output_type": "display_data"
    }
   ],
   "source": [
    "single_label.iloc[:,8:].sum(axis=0).plot.bar(ylabel='Movie count')"
   ]
  },
  {
   "cell_type": "markdown",
   "id": "5b7f0c92-1a71-4ee6-9efc-f78f5f22139b",
   "metadata": {},
   "source": [
    "# Save datasets"
   ]
  },
  {
   "cell_type": "code",
   "execution_count": 16,
   "id": "4f19b866-ec6c-43ae-962c-80782302b436",
   "metadata": {
    "tags": []
   },
   "outputs": [],
   "source": [
    "# TBD"
   ]
  },
  {
   "cell_type": "markdown",
   "id": "a63b9894-8def-42e3-9ad4-d0616b2bec8b",
   "metadata": {},
   "source": [
    "# Preprocessing plot"
   ]
  },
  {
   "cell_type": "code",
   "execution_count": 17,
   "id": "02fb58a6-00a6-43cf-9b12-f200de8cc668",
   "metadata": {
    "tags": []
   },
   "outputs": [],
   "source": [
    "# # Install new libraries to handle contractions & spell checking\n",
    "# !pip install contractions textsearch unidecode"
   ]
  },
  {
   "cell_type": "code",
   "execution_count": 18,
   "id": "c20dd6a7-7861-49a7-8a06-420a1a10d0ee",
   "metadata": {
    "tags": []
   },
   "outputs": [
    {
     "ename": "ModuleNotFoundError",
     "evalue": "No module named 'contractions'",
     "output_type": "error",
     "traceback": [
      "\u001b[0;31m---------------------------------------------------------------------------\u001b[0m",
      "\u001b[0;31mModuleNotFoundError\u001b[0m                       Traceback (most recent call last)",
      "Cell \u001b[0;32mIn[18], line 3\u001b[0m\n\u001b[1;32m      1\u001b[0m \u001b[38;5;28;01mimport\u001b[39;00m \u001b[38;5;21;01mpandas\u001b[39;00m \u001b[38;5;28;01mas\u001b[39;00m \u001b[38;5;21;01mpd\u001b[39;00m\n\u001b[1;32m      2\u001b[0m \u001b[38;5;28;01mimport\u001b[39;00m \u001b[38;5;21;01mnltk\u001b[39;00m\n\u001b[0;32m----> 3\u001b[0m \u001b[38;5;28;01mimport\u001b[39;00m \u001b[38;5;21;01mcontractions\u001b[39;00m\n\u001b[1;32m      4\u001b[0m \u001b[38;5;28;01mfrom\u001b[39;00m \u001b[38;5;21;01mnltk\u001b[39;00m\u001b[38;5;21;01m.\u001b[39;00m\u001b[38;5;21;01mcorpus\u001b[39;00m \u001b[38;5;28;01mimport\u001b[39;00m stopwords\n\u001b[1;32m      5\u001b[0m \u001b[38;5;28;01mfrom\u001b[39;00m \u001b[38;5;21;01mnltk\u001b[39;00m\u001b[38;5;21;01m.\u001b[39;00m\u001b[38;5;21;01mtokenize\u001b[39;00m \u001b[38;5;28;01mimport\u001b[39;00m word_tokenize\n",
      "\u001b[0;31mModuleNotFoundError\u001b[0m: No module named 'contractions'"
     ]
    }
   ],
   "source": [
    "import pandas as pd\n",
    "import nltk\n",
    "import contractions\n",
    "from nltk.corpus import stopwords\n",
    "from nltk.tokenize import word_tokenize\n",
    "from nltk.stem import WordNetLemmatizer\n",
    "from nltk.corpus import wordnet\n",
    "import re\n",
    "import string\n",
    "from unidecode import unidecode\n",
    "\n",
    "# Ensure required NLTK data files are downloaded\n",
    "nltk.download('punkt')\n",
    "nltk.download('stopwords')\n",
    "nltk.download('wordnet')\n",
    "nltk.download('averaged_perceptron_tagger')\n",
    "nltk.download('maxent_ne_chunker')\n",
    "nltk.download('words')\n",
    "\n",
    "# Initialize the lemmatizer and spell checker\n",
    "lemmatizer = WordNetLemmatizer()\n",
    "\n",
    "# Load stopwords and add punctuation to be removed\n",
    "stop_words = set(stopwords.words('english'))\n",
    "punctuation_table = str.maketrans('', '', string.punctuation)"
   ]
  },
  {
   "cell_type": "code",
   "execution_count": 19,
   "id": "43aff121-394d-45e8-a5df-f933db72b423",
   "metadata": {
    "tags": []
   },
   "outputs": [],
   "source": [
    "# Function to map NLTK POS tags to WordNet POS tags\n",
    "def get_wordnet_pos(tag):\n",
    "    if tag.startswith('J'):\n",
    "        return wordnet.ADJ\n",
    "    elif tag.startswith('V'):\n",
    "        return wordnet.VERB\n",
    "    elif tag.startswith('N'):\n",
    "        return wordnet.NOUN\n",
    "    elif tag.startswith('R'):\n",
    "        return wordnet.ADV\n",
    "    else:\n",
    "        return wordnet.NOUN  # Default to noun if POS tag is not recognized\n",
    "\n",
    "def process_hyphens(token_list):\n",
    "    '''\n",
    "    Process a list of tokens, handling hyphens as specified:\n",
    "    For tokens containing exactly one hyphen, the hyphen is removed: sci-fi -> scifi; hi-jacked -> hijacked\n",
    "    For tokens containing more than one hyphen, the token is split into smaller tokens at each hyphen.\n",
    "    bag-of-words -> [bag,of,words]\n",
    "    Tokens with no hyphens are left unchanged.\n",
    "    '''\n",
    "    processed_tokens = []\n",
    "    for token in token_list:\n",
    "        hyphen_count = token.count('-')\n",
    "        if hyphen_count == 1:\n",
    "            # Replace the single hyphen with an empty string\n",
    "            processed_tokens.append(token.replace('-', ''))\n",
    "        elif hyphen_count > 1:\n",
    "            # Split the token into smaller tokens separated by hyphen\n",
    "            processed_tokens.extend(token.split('-'))\n",
    "        else:\n",
    "            # No hyphen in the token, keep it as it is\n",
    "            processed_tokens.append(token)\n",
    "    return processed_tokens\n",
    "\n",
    "def preprocess_plot(plot, handle_hyphen=True, handle_name=True):\n",
    "    \"\"\"\n",
    "    Preprocesses a plot description by expanding contractions, normalizing Unicode characters,\n",
    "    replacing standalone hyphens with spaces, tokenizing while keeping hyphenated words, \n",
    "    lowercasing, removing stopwords, correcting spelling, lemmatizing with POS tags, \n",
    "    and removing hyphens within words.\n",
    "    \n",
    "    Parameters:\n",
    "        plot (str): The plot description to preprocess.\n",
    "        \n",
    "    Returns:\n",
    "        str: The preprocessed plot description.\n",
    "    \"\"\"\n",
    "    if isinstance(plot, float):\n",
    "        # Handle NaN or non-string plot descriptions\n",
    "        return \"\"\n",
    "    \n",
    "\n",
    "    try:\n",
    "        # Convert Unicode chars\n",
    "        plot = unidecode(plot)   \n",
    "        # Expand contractions\n",
    "        plot = contractions.fix(plot)\n",
    "    \n",
    "        # Replace standalone hyphens with spaces\n",
    "        if handle_hyphen:\n",
    "            plot = re.sub(r'(?<=\\s)-(?=\\s)', ' ', plot)\n",
    "        \n",
    "        # Tokenize the plot while keeping hyphenated words\n",
    "        tokens = word_tokenize(plot)\n",
    "        \n",
    "        # Get POS tags\n",
    "        pos_tags = nltk.pos_tag(tokens)\n",
    "        \n",
    "        # Identify named entities (proper nouns) and replace person's names with a placeholder\n",
    "        if handle_name:\n",
    "            named_entities = nltk.ne_chunk(pos_tags)\n",
    "            for chunk in named_entities:\n",
    "                if hasattr(chunk, 'label') and chunk.label() == 'PERSON':\n",
    "                    for c in chunk:\n",
    "                        tokens = [token if token != c[0] else 'charname' for token in tokens]\n",
    "    \n",
    "        # Process hyphenations\n",
    "        if handle_hyphen:\n",
    "            tokens = process_hyphens(tokens)\n",
    "        \n",
    "        # Process tokens: lowercase, remove punctuation, remove stopwords, and lemmatize with POS tags, remove numbers\n",
    "        processed_tokens = [\n",
    "            # https://www.geeksforgeeks.org/python-lemmatization-approaches-with-examples/\n",
    "            lemmatizer.lemmatize(word.lower().translate(punctuation_table), get_wordnet_pos(tag))\n",
    "            for word, tag in nltk.pos_tag(tokens)\n",
    "            if word.isalpha() and word.lower() not in stop_words\n",
    "        ]\n",
    "        \n",
    "        # Join tokens back into a single string\n",
    "        processed_plot = ' '.join(processed_tokens)\n",
    "    \n",
    "        return processed_plot\n",
    "        \n",
    "    except:\n",
    "        return 'PROCESSING_ERROR'"
   ]
  },
  {
   "cell_type": "markdown",
   "id": "0f1b0d41-fc38-4a93-8447-b2b351c8b2f0",
   "metadata": {},
   "source": [
    "# Notes to preprocessing plots\n",
    "\n",
    "## Unicode characters\n",
    "`multi_label['Plot'].iloc[0]`: `As the train stops it is boarded by the bandits\\u200d—\\u200cnow four. Two bandits enter an express car, kill a messenger and open a box of valuables with dynamite; the others kill the fireman and force the engineer to halt the train and disconnect the locomotive.`\n",
    "\n",
    "-> Need to decode Unicode characters like `\\u200d`; otherwise the words `bandits` and `now` will be discarded unreasonably\n",
    "\n",
    "## Hyphenated words\n",
    "`multi_label['Plot'].iloc[2]`: `and later by a hi-jacked horse and cart.`\n",
    "\n",
    "-> Don't want to tokenize `hi-jacked` -> `hi`, `jacked`; but into `hijacked`\n",
    "But `bag-of-words` should be `bag`, `of`, `words`\n",
    "\n",
    "## Person's names (character's names)\n",
    "Use `nltk.ne_chunk` to replace it with a `charname` string. Can try to remove this preprocessing step (optional) to see if it improves the models"
   ]
  },
  {
   "cell_type": "code",
   "execution_count": 21,
   "id": "acabb879-767f-44f7-ab45-bd5f9ec21166",
   "metadata": {
    "tags": []
   },
   "outputs": [
    {
     "name": "stdout",
     "output_type": "stream",
     "text": [
      ">> Raw\n",
      "-------------------------\n"
     ]
    },
    {
     "data": {
      "text/plain": [
       "'The grandmother of rude big man Recep İvedik (Şahan Gökbakar) wants him to find a job. He tries many, but is always fired soon. Finally he gets a job as \"half-boss\" in the company led by his cousin, after he points out that they inherited this company together from their grandfather. When Japanese business relations, to his cousin\\'s regret, refuse to sign a contract, İvedik happens to wear a jacket of some organisation the Japanese are a member of, which makes them think he is the boss of that organisation; this and İvedik\\'s pressure on them convinces them to sign the contract after all. This makes his cousin very satisfied about him.\\r\\nİvedik\\'s grandmother also wants him to get married. He tries to find a woman with the assistance of a young worker of the company, Ali Kerem (Çagri Büyüksayar). They do not succeed, but Kerem helps İvedik by disguising as a woman and accompanying him to his grandmother, where they pretend they are in love.\\r\\nİvedik\\'s grandmother dies. He inherits a chest which only contains a photograph of her making a \"fuck-you\"-gesture.'"
      ]
     },
     "metadata": {},
     "output_type": "display_data"
    },
    {
     "name": "stdout",
     "output_type": "stream",
     "text": [
      "\n",
      ">> Processed\n",
      "-------------------------\n"
     ]
    },
    {
     "data": {
      "text/plain": [
       "'PROCESSING_ERROR'"
      ]
     },
     "metadata": {},
     "output_type": "display_data"
    }
   ],
   "source": [
    "# Unicode character\n",
    "example = multi_label[multi_label['Plot'].str.contains('The grandmother of rude big man ')]['Plot'].iloc[0]\n",
    "\n",
    "print('>> Raw\\n'+'-'*25)\n",
    "display(example)\n",
    "\n",
    "print('\\n>> Processed\\n'+'-'*25)\n",
    "display(preprocess_plot(example, False, False))"
   ]
  },
  {
   "cell_type": "code",
   "execution_count": 22,
   "id": "f0c1f25a-5221-4be8-b0fc-b8929c4ff8e2",
   "metadata": {
    "tags": []
   },
   "outputs": [
    {
     "name": "stdout",
     "output_type": "stream",
     "text": [
      ">> Raw\n",
      "-------------------------\n"
     ]
    },
    {
     "data": {
      "text/plain": [
       "'The film features a train traveling through the Rockies and a hold up created by two thugs placing logs on the line. They systematically rob the wealthy occupants at gunpoint and then make their getaway along the tracks and later by a hi-jacked horse and cart.'"
      ]
     },
     "metadata": {},
     "output_type": "display_data"
    },
    {
     "name": "stdout",
     "output_type": "stream",
     "text": [
      "\n",
      ">> Without handling hyphen\n",
      "-------------------------\n"
     ]
    },
    {
     "data": {
      "text/plain": [
       "'PROCESSING_ERROR'"
      ]
     },
     "metadata": {},
     "output_type": "display_data"
    },
    {
     "name": "stdout",
     "output_type": "stream",
     "text": [
      "\n",
      ">> Processed\n",
      "-------------------------\n"
     ]
    },
    {
     "data": {
      "text/plain": [
       "'PROCESSING_ERROR'"
      ]
     },
     "metadata": {},
     "output_type": "display_data"
    }
   ],
   "source": [
    "# Hyphenated words\n",
    "i = 2\n",
    "\n",
    "print('>> Raw\\n'+'-'*25)\n",
    "display(multi_label['Plot'].iloc[i])\n",
    "\n",
    "print('\\n>> Without handling hyphen\\n'+'-'*25)\n",
    "display(preprocess_plot(multi_label['Plot'].iloc[i], handle_hyphen=False))\n",
    "\n",
    "print('\\n>> Processed\\n'+'-'*25)\n",
    "display(preprocess_plot(multi_label['Plot'].iloc[i]))"
   ]
  },
  {
   "cell_type": "code",
   "execution_count": 23,
   "id": "c78a5f60-4a5e-43d7-9612-553a9963606b",
   "metadata": {
    "tags": []
   },
   "outputs": [
    {
     "name": "stdout",
     "output_type": "stream",
     "text": [
      ">> Raw\n",
      "-------------------------\n"
     ]
    },
    {
     "data": {
      "text/plain": [
       "\"Boone's daughter befriends an Indian maiden as Boone and his companion start out on a hunting expedition. While he is away, Boone's cabin is attacked by the Indians, who set it on fire and abduct Boone's daughter. Boone returns, swears vengeance, then heads out on the trail to the Indian camp. His daughter escapes but is chased. The Indians encounter Boone, which sets off a huge fight on the edge of a cliff. A burning arrow gets shot into the Indian camp. Boone gets tied to the stake and tortured. The burning arrow sets the Indian camp on fire, causing panic. Boone is rescued by his horse, and Boone has a knife fight in which he kills the Indian chief.[2]\""
      ]
     },
     "metadata": {},
     "output_type": "display_data"
    },
    {
     "name": "stdout",
     "output_type": "stream",
     "text": [
      "\n",
      ">> Without character name\n",
      "-------------------------\n"
     ]
    },
    {
     "data": {
      "text/plain": [
       "'PROCESSING_ERROR'"
      ]
     },
     "metadata": {},
     "output_type": "display_data"
    },
    {
     "name": "stdout",
     "output_type": "stream",
     "text": [
      "\n",
      ">> Processed\n",
      "-------------------------\n"
     ]
    },
    {
     "data": {
      "text/plain": [
       "'PROCESSING_ERROR'"
      ]
     },
     "metadata": {},
     "output_type": "display_data"
    }
   ],
   "source": [
    "# Character Name\n",
    "i = 3\n",
    "\n",
    "print('>> Raw\\n'+'-'*25)\n",
    "display(multi_label['Plot'].iloc[i])\n",
    "\n",
    "print('\\n>> Without character name\\n'+'-'*25)\n",
    "display(preprocess_plot(multi_label['Plot'].iloc[i], handle_name=False))\n",
    "\n",
    "print('\\n>> Processed\\n'+'-'*25)\n",
    "display(preprocess_plot(multi_label['Plot'].iloc[i]))"
   ]
  },
  {
   "cell_type": "markdown",
   "id": "69db5e3f-b3e1-4763-8c84-c00243fb540b",
   "metadata": {},
   "source": [
    "# Apply plot processing to full datasets"
   ]
  },
  {
   "cell_type": "code",
   "execution_count": 24,
   "id": "21c12c17-7822-4c03-8aa9-3d711dd9d016",
   "metadata": {
    "tags": []
   },
   "outputs": [],
   "source": [
    "from concurrent.futures import ThreadPoolExecutor\n",
    "# Parallelize the preprocessing of a DataFrame column so that it's faster\n",
    "def parallel_preprocess(df, column_name, num_threads=4):\n",
    "    with ThreadPoolExecutor(max_workers=num_threads) as executor:\n",
    "        processed_plots = list(executor.map(preprocess_plot, df[column_name]))\n",
    "    df['Processed_Plot'] = processed_plots\n",
    "    return df"
   ]
  },
  {
   "cell_type": "markdown",
   "id": "14c67ee8-603f-46ec-a400-c2b633f837a0",
   "metadata": {},
   "source": [
    "# Save Multilabel data"
   ]
  },
  {
   "cell_type": "code",
   "execution_count": 34,
   "id": "a1f5c6b1-43c7-4fa2-bbf8-f29a011e7991",
   "metadata": {
    "tags": []
   },
   "outputs": [],
   "source": [
    "import os\n",
    "# Take a veryyyyyyyyyyyyyyyyyyyyyy long time, so load the pre-cleaned if exists and skip this part\n",
    "if 'multilabel.csv' in os.listdir():\n",
    "    multi_label_processed = pd.read_csv('multilabel.csv')\n",
    "else:\n",
    "    multi_label_processed = parallel_preprocess(multi_label, 'Plot', num_threads=8)\n",
    "    # Save (remember to rename)\n",
    "    multi_label_processed.to_csv('multilabel.csv', index=False)"
   ]
  },
  {
   "cell_type": "markdown",
   "id": "73d880d2-ab27-4449-90cc-8fe32fd9d5a2",
   "metadata": {},
   "source": [
    "# Save Singlelabel data"
   ]
  },
  {
   "cell_type": "code",
   "execution_count": 35,
   "id": "bb4fb191-cc97-4250-b3ed-2620f8c0f20c",
   "metadata": {
    "tags": []
   },
   "outputs": [],
   "source": [
    "import os\n",
    "if 'singlelabel.csv' in os.listdir():\n",
    "    single_label_processed = pd.read_csv('singlelabel.csv')\n",
    "else:\n",
    "    single_label_processed = multi_label_processed[multi_label_processed[ALLOWED_GENRES].sum(axis=1)==1]\n",
    "    y_single = single_label_processed[ALLOWED_GENRES].idxmax(axis=1)\n",
    "    single_label_processed['Genre'] = y_single\n",
    "    # Save (remember to rename)\n",
    "    single_label_processed[['Release Year', 'Title', 'Origin/Ethnicity', 'Processed_Plot', 'Genre']].to_csv('singlelabel.csv', index=False)"
   ]
  },
  {
   "cell_type": "markdown",
   "id": "78f7087d-3865-4d06-8e75-358ce57b7216",
   "metadata": {},
   "source": [
    "# TFIDF (singlelabel)"
   ]
  },
  {
   "cell_type": "code",
   "execution_count": 40,
   "id": "422427f8-88a6-44fd-9168-2870c164a479",
   "metadata": {
    "tags": []
   },
   "outputs": [],
   "source": [
    "import pandas as pd\n",
    "from sklearn.feature_extraction.text import TfidfVectorizer\n",
    "\n",
    "tfidf_vectorizer = TfidfVectorizer(max_features=5000)#, ngram_range=(1,2))\n",
    "tfidf_matrix = tfidf_vectorizer.fit_transform(single_label_processed['Processed_Plot'])\n",
    "X_single = pd.DataFrame(tfidf_matrix.toarray(), columns=tfidf_vectorizer.get_feature_names_out())"
   ]
  },
  {
   "cell_type": "code",
   "execution_count": 41,
   "id": "2acc0b0e-978f-48f6-ad6e-d0d8d66cd3d3",
   "metadata": {
    "tags": []
   },
   "outputs": [
    {
     "name": "stdout",
     "output_type": "stream",
     "text": [
      "              precision    recall  f1-score   support\n",
      "\n",
      "      action       0.60      0.14      0.23       244\n",
      "   adventure       0.62      0.04      0.08       112\n",
      "    animated       0.95      0.23      0.37       179\n",
      "biographical       0.00      0.00      0.00        38\n",
      "      comedy       0.57      0.56      0.57       992\n",
      "       crime       0.00      0.00      0.00       109\n",
      " documentary       0.00      0.00      0.00        17\n",
      "       drama       0.43      0.89      0.59      1349\n",
      "     fantasy       0.00      0.00      0.00        48\n",
      "     history       0.00      0.00      0.00         2\n",
      "      horror       0.72      0.51      0.60       253\n",
      "     mystery       0.00      0.00      0.00        59\n",
      "     romance       0.00      0.00      0.00       198\n",
      "       scifi       1.00      0.02      0.04        48\n",
      "    thriller       0.67      0.01      0.02       228\n",
      "         war       0.69      0.11      0.19        84\n",
      "     western       0.93      0.40      0.56       161\n",
      "\n",
      "    accuracy                           0.50      4121\n",
      "   macro avg       0.42      0.17      0.19      4121\n",
      "weighted avg       0.52      0.50      0.42      4121\n",
      "\n"
     ]
    }
   ],
   "source": [
    "from sklearn.model_selection import train_test_split\n",
    "from sklearn.naive_bayes import MultinomialNB\n",
    "from sklearn.metrics import classification_report\n",
    "from sklearn.multioutput import MultiOutputClassifier\n",
    "\n",
    "# Split the data into training and testing sets\n",
    "X_train, X_test, y_train, y_test = train_test_split(X_single, y_single, test_size=0.2, random_state=42)\n",
    "\n",
    "# Train a Multinomial Naive Bayes classifier\n",
    "nb_model = MultinomialNB()\n",
    "nb_model.fit(X_train, y_train)\n",
    "\n",
    "# Make predictions on the test set\n",
    "y_pred = nb_model.predict(X_test)\n",
    "report = classification_report(y_test, y_pred, zero_division=0)\n",
    "print(report)"
   ]
  },
  {
   "cell_type": "markdown",
   "id": "556634a0-e28f-4cd4-a879-00feacc9ac7e",
   "metadata": {},
   "source": [
    "## Key Observations\n",
    "- Imbalanced Performance: The model performs significantly better on some genres (e.g., \"drama,\" \"comedy,\" \"western\") compared to others (e.g., \"biographical,\" \"crime,\" \"documentary\").\n",
    "- Data Imbalance: Genres with more instances in the dataset (e.g., \"drama,\" \"comedy\") tend to have better performance, suggesting data imbalance might be affecting the model.\n",
    "- Low Precision and Recall for Many Labels: Many genres have both low precision and recall, indicating that the model is neither good at correctly identifying these genres nor avoiding false positives."
   ]
  },
  {
   "cell_type": "markdown",
   "id": "dd3ea8ac-91c9-4315-9b2d-07328da66610",
   "metadata": {},
   "source": [
    "# TFIDF (Multi)"
   ]
  },
  {
   "cell_type": "code",
   "execution_count": 42,
   "id": "383b918d-f96c-49b0-a5da-1918d1cdc663",
   "metadata": {
    "tags": []
   },
   "outputs": [],
   "source": [
    "import pandas as pd\n",
    "from sklearn.feature_extraction.text import TfidfVectorizer\n",
    "\n",
    "tfidf_vectorizer = TfidfVectorizer(max_features=5000)#, ngram_range=(1))\n",
    "tfidf_matrix = tfidf_vectorizer.fit_transform(multi_label_processed['Processed_Plot'])\n",
    "X_train = pd.DataFrame(tfidf_matrix.toarray(), columns=tfidf_vectorizer.get_feature_names_out())"
   ]
  },
  {
   "cell_type": "code",
   "execution_count": 43,
   "id": "4eeb3003-1931-45a9-a34e-fe016f4231fb",
   "metadata": {
    "tags": []
   },
   "outputs": [
    {
     "data": {
      "text/plain": [
       "(25962, 5000)"
      ]
     },
     "execution_count": 43,
     "metadata": {},
     "output_type": "execute_result"
    }
   ],
   "source": [
    "X_train.shape"
   ]
  },
  {
   "cell_type": "code",
   "execution_count": 44,
   "id": "26518031-eed6-4a5c-9dc4-982580ee687b",
   "metadata": {
    "tags": []
   },
   "outputs": [
    {
     "data": {
      "text/html": [
       "<div>\n",
       "<style scoped>\n",
       "    .dataframe tbody tr th:only-of-type {\n",
       "        vertical-align: middle;\n",
       "    }\n",
       "\n",
       "    .dataframe tbody tr th {\n",
       "        vertical-align: top;\n",
       "    }\n",
       "\n",
       "    .dataframe thead th {\n",
       "        text-align: right;\n",
       "    }\n",
       "</style>\n",
       "<table border=\"1\" class=\"dataframe\">\n",
       "  <thead>\n",
       "    <tr style=\"text-align: right;\">\n",
       "      <th></th>\n",
       "      <th>abandon</th>\n",
       "      <th>abandoned</th>\n",
       "      <th>abduct</th>\n",
       "      <th>ability</th>\n",
       "      <th>able</th>\n",
       "      <th>aboard</th>\n",
       "      <th>abort</th>\n",
       "      <th>abortion</th>\n",
       "      <th>abroad</th>\n",
       "      <th>abruptly</th>\n",
       "      <th>...</th>\n",
       "      <th>york</th>\n",
       "      <th>youboat</th>\n",
       "      <th>young</th>\n",
       "      <th>younger</th>\n",
       "      <th>youngster</th>\n",
       "      <th>youth</th>\n",
       "      <th>zamindar</th>\n",
       "      <th>zombie</th>\n",
       "      <th>zone</th>\n",
       "      <th>zoo</th>\n",
       "    </tr>\n",
       "  </thead>\n",
       "  <tbody>\n",
       "    <tr>\n",
       "      <th>0</th>\n",
       "      <td>0.0</td>\n",
       "      <td>0.0</td>\n",
       "      <td>0.000000</td>\n",
       "      <td>0.0</td>\n",
       "      <td>0.000000</td>\n",
       "      <td>0.0</td>\n",
       "      <td>0.0</td>\n",
       "      <td>0.0</td>\n",
       "      <td>0.0</td>\n",
       "      <td>0.0</td>\n",
       "      <td>...</td>\n",
       "      <td>0.0</td>\n",
       "      <td>0.0</td>\n",
       "      <td>0.000000</td>\n",
       "      <td>0.0</td>\n",
       "      <td>0.0</td>\n",
       "      <td>0.0</td>\n",
       "      <td>0.0</td>\n",
       "      <td>0.0</td>\n",
       "      <td>0.0</td>\n",
       "      <td>0.0</td>\n",
       "    </tr>\n",
       "    <tr>\n",
       "      <th>1</th>\n",
       "      <td>0.0</td>\n",
       "      <td>0.0</td>\n",
       "      <td>0.000000</td>\n",
       "      <td>0.0</td>\n",
       "      <td>0.000000</td>\n",
       "      <td>0.0</td>\n",
       "      <td>0.0</td>\n",
       "      <td>0.0</td>\n",
       "      <td>0.0</td>\n",
       "      <td>0.0</td>\n",
       "      <td>...</td>\n",
       "      <td>0.0</td>\n",
       "      <td>0.0</td>\n",
       "      <td>0.000000</td>\n",
       "      <td>0.0</td>\n",
       "      <td>0.0</td>\n",
       "      <td>0.0</td>\n",
       "      <td>0.0</td>\n",
       "      <td>0.0</td>\n",
       "      <td>0.0</td>\n",
       "      <td>0.0</td>\n",
       "    </tr>\n",
       "    <tr>\n",
       "      <th>2</th>\n",
       "      <td>0.0</td>\n",
       "      <td>0.0</td>\n",
       "      <td>0.000000</td>\n",
       "      <td>0.0</td>\n",
       "      <td>0.000000</td>\n",
       "      <td>0.0</td>\n",
       "      <td>0.0</td>\n",
       "      <td>0.0</td>\n",
       "      <td>0.0</td>\n",
       "      <td>0.0</td>\n",
       "      <td>...</td>\n",
       "      <td>0.0</td>\n",
       "      <td>0.0</td>\n",
       "      <td>0.000000</td>\n",
       "      <td>0.0</td>\n",
       "      <td>0.0</td>\n",
       "      <td>0.0</td>\n",
       "      <td>0.0</td>\n",
       "      <td>0.0</td>\n",
       "      <td>0.0</td>\n",
       "      <td>0.0</td>\n",
       "    </tr>\n",
       "    <tr>\n",
       "      <th>3</th>\n",
       "      <td>0.0</td>\n",
       "      <td>0.0</td>\n",
       "      <td>0.108804</td>\n",
       "      <td>0.0</td>\n",
       "      <td>0.000000</td>\n",
       "      <td>0.0</td>\n",
       "      <td>0.0</td>\n",
       "      <td>0.0</td>\n",
       "      <td>0.0</td>\n",
       "      <td>0.0</td>\n",
       "      <td>...</td>\n",
       "      <td>0.0</td>\n",
       "      <td>0.0</td>\n",
       "      <td>0.000000</td>\n",
       "      <td>0.0</td>\n",
       "      <td>0.0</td>\n",
       "      <td>0.0</td>\n",
       "      <td>0.0</td>\n",
       "      <td>0.0</td>\n",
       "      <td>0.0</td>\n",
       "      <td>0.0</td>\n",
       "    </tr>\n",
       "    <tr>\n",
       "      <th>4</th>\n",
       "      <td>0.0</td>\n",
       "      <td>0.0</td>\n",
       "      <td>0.000000</td>\n",
       "      <td>0.0</td>\n",
       "      <td>0.000000</td>\n",
       "      <td>0.0</td>\n",
       "      <td>0.0</td>\n",
       "      <td>0.0</td>\n",
       "      <td>0.0</td>\n",
       "      <td>0.0</td>\n",
       "      <td>...</td>\n",
       "      <td>0.0</td>\n",
       "      <td>0.0</td>\n",
       "      <td>0.000000</td>\n",
       "      <td>0.0</td>\n",
       "      <td>0.0</td>\n",
       "      <td>0.0</td>\n",
       "      <td>0.0</td>\n",
       "      <td>0.0</td>\n",
       "      <td>0.0</td>\n",
       "      <td>0.0</td>\n",
       "    </tr>\n",
       "    <tr>\n",
       "      <th>...</th>\n",
       "      <td>...</td>\n",
       "      <td>...</td>\n",
       "      <td>...</td>\n",
       "      <td>...</td>\n",
       "      <td>...</td>\n",
       "      <td>...</td>\n",
       "      <td>...</td>\n",
       "      <td>...</td>\n",
       "      <td>...</td>\n",
       "      <td>...</td>\n",
       "      <td>...</td>\n",
       "      <td>...</td>\n",
       "      <td>...</td>\n",
       "      <td>...</td>\n",
       "      <td>...</td>\n",
       "      <td>...</td>\n",
       "      <td>...</td>\n",
       "      <td>...</td>\n",
       "      <td>...</td>\n",
       "      <td>...</td>\n",
       "      <td>...</td>\n",
       "    </tr>\n",
       "    <tr>\n",
       "      <th>25957</th>\n",
       "      <td>0.0</td>\n",
       "      <td>0.0</td>\n",
       "      <td>0.000000</td>\n",
       "      <td>0.0</td>\n",
       "      <td>0.000000</td>\n",
       "      <td>0.0</td>\n",
       "      <td>0.0</td>\n",
       "      <td>0.0</td>\n",
       "      <td>0.0</td>\n",
       "      <td>0.0</td>\n",
       "      <td>...</td>\n",
       "      <td>0.0</td>\n",
       "      <td>0.0</td>\n",
       "      <td>0.000000</td>\n",
       "      <td>0.0</td>\n",
       "      <td>0.0</td>\n",
       "      <td>0.0</td>\n",
       "      <td>0.0</td>\n",
       "      <td>0.0</td>\n",
       "      <td>0.0</td>\n",
       "      <td>0.0</td>\n",
       "    </tr>\n",
       "    <tr>\n",
       "      <th>25958</th>\n",
       "      <td>0.0</td>\n",
       "      <td>0.0</td>\n",
       "      <td>0.000000</td>\n",
       "      <td>0.0</td>\n",
       "      <td>0.000000</td>\n",
       "      <td>0.0</td>\n",
       "      <td>0.0</td>\n",
       "      <td>0.0</td>\n",
       "      <td>0.0</td>\n",
       "      <td>0.0</td>\n",
       "      <td>...</td>\n",
       "      <td>0.0</td>\n",
       "      <td>0.0</td>\n",
       "      <td>0.000000</td>\n",
       "      <td>0.0</td>\n",
       "      <td>0.0</td>\n",
       "      <td>0.0</td>\n",
       "      <td>0.0</td>\n",
       "      <td>0.0</td>\n",
       "      <td>0.0</td>\n",
       "      <td>0.0</td>\n",
       "    </tr>\n",
       "    <tr>\n",
       "      <th>25959</th>\n",
       "      <td>0.0</td>\n",
       "      <td>0.0</td>\n",
       "      <td>0.000000</td>\n",
       "      <td>0.0</td>\n",
       "      <td>0.000000</td>\n",
       "      <td>0.0</td>\n",
       "      <td>0.0</td>\n",
       "      <td>0.0</td>\n",
       "      <td>0.0</td>\n",
       "      <td>0.0</td>\n",
       "      <td>...</td>\n",
       "      <td>0.0</td>\n",
       "      <td>0.0</td>\n",
       "      <td>0.000000</td>\n",
       "      <td>0.0</td>\n",
       "      <td>0.0</td>\n",
       "      <td>0.0</td>\n",
       "      <td>0.0</td>\n",
       "      <td>0.0</td>\n",
       "      <td>0.0</td>\n",
       "      <td>0.0</td>\n",
       "    </tr>\n",
       "    <tr>\n",
       "      <th>25960</th>\n",
       "      <td>0.0</td>\n",
       "      <td>0.0</td>\n",
       "      <td>0.000000</td>\n",
       "      <td>0.0</td>\n",
       "      <td>0.073376</td>\n",
       "      <td>0.0</td>\n",
       "      <td>0.0</td>\n",
       "      <td>0.0</td>\n",
       "      <td>0.0</td>\n",
       "      <td>0.0</td>\n",
       "      <td>...</td>\n",
       "      <td>0.0</td>\n",
       "      <td>0.0</td>\n",
       "      <td>0.050944</td>\n",
       "      <td>0.0</td>\n",
       "      <td>0.0</td>\n",
       "      <td>0.0</td>\n",
       "      <td>0.0</td>\n",
       "      <td>0.0</td>\n",
       "      <td>0.0</td>\n",
       "      <td>0.0</td>\n",
       "    </tr>\n",
       "    <tr>\n",
       "      <th>25961</th>\n",
       "      <td>0.0</td>\n",
       "      <td>0.0</td>\n",
       "      <td>0.000000</td>\n",
       "      <td>0.0</td>\n",
       "      <td>0.000000</td>\n",
       "      <td>0.0</td>\n",
       "      <td>0.0</td>\n",
       "      <td>0.0</td>\n",
       "      <td>0.0</td>\n",
       "      <td>0.0</td>\n",
       "      <td>...</td>\n",
       "      <td>0.0</td>\n",
       "      <td>0.0</td>\n",
       "      <td>0.000000</td>\n",
       "      <td>0.0</td>\n",
       "      <td>0.0</td>\n",
       "      <td>0.0</td>\n",
       "      <td>0.0</td>\n",
       "      <td>0.0</td>\n",
       "      <td>0.0</td>\n",
       "      <td>0.0</td>\n",
       "    </tr>\n",
       "  </tbody>\n",
       "</table>\n",
       "<p>25962 rows × 5000 columns</p>\n",
       "</div>"
      ],
      "text/plain": [
       "       abandon  abandoned    abduct  ability      able  aboard  abort  \\\n",
       "0          0.0        0.0  0.000000      0.0  0.000000     0.0    0.0   \n",
       "1          0.0        0.0  0.000000      0.0  0.000000     0.0    0.0   \n",
       "2          0.0        0.0  0.000000      0.0  0.000000     0.0    0.0   \n",
       "3          0.0        0.0  0.108804      0.0  0.000000     0.0    0.0   \n",
       "4          0.0        0.0  0.000000      0.0  0.000000     0.0    0.0   \n",
       "...        ...        ...       ...      ...       ...     ...    ...   \n",
       "25957      0.0        0.0  0.000000      0.0  0.000000     0.0    0.0   \n",
       "25958      0.0        0.0  0.000000      0.0  0.000000     0.0    0.0   \n",
       "25959      0.0        0.0  0.000000      0.0  0.000000     0.0    0.0   \n",
       "25960      0.0        0.0  0.000000      0.0  0.073376     0.0    0.0   \n",
       "25961      0.0        0.0  0.000000      0.0  0.000000     0.0    0.0   \n",
       "\n",
       "       abortion  abroad  abruptly  ...  york  youboat     young  younger  \\\n",
       "0           0.0     0.0       0.0  ...   0.0      0.0  0.000000      0.0   \n",
       "1           0.0     0.0       0.0  ...   0.0      0.0  0.000000      0.0   \n",
       "2           0.0     0.0       0.0  ...   0.0      0.0  0.000000      0.0   \n",
       "3           0.0     0.0       0.0  ...   0.0      0.0  0.000000      0.0   \n",
       "4           0.0     0.0       0.0  ...   0.0      0.0  0.000000      0.0   \n",
       "...         ...     ...       ...  ...   ...      ...       ...      ...   \n",
       "25957       0.0     0.0       0.0  ...   0.0      0.0  0.000000      0.0   \n",
       "25958       0.0     0.0       0.0  ...   0.0      0.0  0.000000      0.0   \n",
       "25959       0.0     0.0       0.0  ...   0.0      0.0  0.000000      0.0   \n",
       "25960       0.0     0.0       0.0  ...   0.0      0.0  0.050944      0.0   \n",
       "25961       0.0     0.0       0.0  ...   0.0      0.0  0.000000      0.0   \n",
       "\n",
       "       youngster  youth  zamindar  zombie  zone  zoo  \n",
       "0            0.0    0.0       0.0     0.0   0.0  0.0  \n",
       "1            0.0    0.0       0.0     0.0   0.0  0.0  \n",
       "2            0.0    0.0       0.0     0.0   0.0  0.0  \n",
       "3            0.0    0.0       0.0     0.0   0.0  0.0  \n",
       "4            0.0    0.0       0.0     0.0   0.0  0.0  \n",
       "...          ...    ...       ...     ...   ...  ...  \n",
       "25957        0.0    0.0       0.0     0.0   0.0  0.0  \n",
       "25958        0.0    0.0       0.0     0.0   0.0  0.0  \n",
       "25959        0.0    0.0       0.0     0.0   0.0  0.0  \n",
       "25960        0.0    0.0       0.0     0.0   0.0  0.0  \n",
       "25961        0.0    0.0       0.0     0.0   0.0  0.0  \n",
       "\n",
       "[25962 rows x 5000 columns]"
      ]
     },
     "execution_count": 44,
     "metadata": {},
     "output_type": "execute_result"
    }
   ],
   "source": [
    "X_train"
   ]
  },
  {
   "cell_type": "code",
   "execution_count": 50,
   "id": "9deb0881-4812-4edc-8e54-f7b4c8efc0c7",
   "metadata": {
    "tags": []
   },
   "outputs": [],
   "source": [
    "y_train = multi_label_processed[list(ALLOWED_GENRES)]"
   ]
  },
  {
   "cell_type": "code",
   "execution_count": 51,
   "id": "a0d9286c-0bbe-46ed-991b-ac6a978a7b19",
   "metadata": {
    "tags": []
   },
   "outputs": [
    {
     "data": {
      "text/html": [
       "<div>\n",
       "<style scoped>\n",
       "    .dataframe tbody tr th:only-of-type {\n",
       "        vertical-align: middle;\n",
       "    }\n",
       "\n",
       "    .dataframe tbody tr th {\n",
       "        vertical-align: top;\n",
       "    }\n",
       "\n",
       "    .dataframe thead th {\n",
       "        text-align: right;\n",
       "    }\n",
       "</style>\n",
       "<table border=\"1\" class=\"dataframe\">\n",
       "  <thead>\n",
       "    <tr style=\"text-align: right;\">\n",
       "      <th></th>\n",
       "      <th>fantasy</th>\n",
       "      <th>scifi</th>\n",
       "      <th>horror</th>\n",
       "      <th>sport</th>\n",
       "      <th>action</th>\n",
       "      <th>crime</th>\n",
       "      <th>biographical</th>\n",
       "      <th>comedy</th>\n",
       "      <th>drama</th>\n",
       "      <th>mystery</th>\n",
       "      <th>history</th>\n",
       "      <th>war</th>\n",
       "      <th>romance</th>\n",
       "      <th>thriller</th>\n",
       "      <th>western</th>\n",
       "      <th>adventure</th>\n",
       "      <th>documentary</th>\n",
       "      <th>music</th>\n",
       "      <th>animated</th>\n",
       "    </tr>\n",
       "  </thead>\n",
       "  <tbody>\n",
       "    <tr>\n",
       "      <th>0</th>\n",
       "      <td>0</td>\n",
       "      <td>0</td>\n",
       "      <td>0</td>\n",
       "      <td>0</td>\n",
       "      <td>0</td>\n",
       "      <td>0</td>\n",
       "      <td>0</td>\n",
       "      <td>0</td>\n",
       "      <td>0</td>\n",
       "      <td>0</td>\n",
       "      <td>0</td>\n",
       "      <td>0</td>\n",
       "      <td>0</td>\n",
       "      <td>0</td>\n",
       "      <td>1</td>\n",
       "      <td>0</td>\n",
       "      <td>0</td>\n",
       "      <td>0</td>\n",
       "      <td>0</td>\n",
       "    </tr>\n",
       "    <tr>\n",
       "      <th>1</th>\n",
       "      <td>0</td>\n",
       "      <td>0</td>\n",
       "      <td>0</td>\n",
       "      <td>0</td>\n",
       "      <td>0</td>\n",
       "      <td>0</td>\n",
       "      <td>0</td>\n",
       "      <td>1</td>\n",
       "      <td>0</td>\n",
       "      <td>0</td>\n",
       "      <td>0</td>\n",
       "      <td>0</td>\n",
       "      <td>0</td>\n",
       "      <td>0</td>\n",
       "      <td>0</td>\n",
       "      <td>0</td>\n",
       "      <td>0</td>\n",
       "      <td>0</td>\n",
       "      <td>0</td>\n",
       "    </tr>\n",
       "    <tr>\n",
       "      <th>2</th>\n",
       "      <td>0</td>\n",
       "      <td>0</td>\n",
       "      <td>0</td>\n",
       "      <td>0</td>\n",
       "      <td>1</td>\n",
       "      <td>1</td>\n",
       "      <td>0</td>\n",
       "      <td>0</td>\n",
       "      <td>0</td>\n",
       "      <td>0</td>\n",
       "      <td>0</td>\n",
       "      <td>0</td>\n",
       "      <td>0</td>\n",
       "      <td>0</td>\n",
       "      <td>1</td>\n",
       "      <td>0</td>\n",
       "      <td>0</td>\n",
       "      <td>0</td>\n",
       "      <td>0</td>\n",
       "    </tr>\n",
       "    <tr>\n",
       "      <th>3</th>\n",
       "      <td>0</td>\n",
       "      <td>0</td>\n",
       "      <td>0</td>\n",
       "      <td>0</td>\n",
       "      <td>0</td>\n",
       "      <td>0</td>\n",
       "      <td>1</td>\n",
       "      <td>0</td>\n",
       "      <td>0</td>\n",
       "      <td>0</td>\n",
       "      <td>0</td>\n",
       "      <td>0</td>\n",
       "      <td>0</td>\n",
       "      <td>0</td>\n",
       "      <td>0</td>\n",
       "      <td>0</td>\n",
       "      <td>0</td>\n",
       "      <td>0</td>\n",
       "      <td>0</td>\n",
       "    </tr>\n",
       "    <tr>\n",
       "      <th>4</th>\n",
       "      <td>0</td>\n",
       "      <td>0</td>\n",
       "      <td>0</td>\n",
       "      <td>0</td>\n",
       "      <td>0</td>\n",
       "      <td>0</td>\n",
       "      <td>0</td>\n",
       "      <td>1</td>\n",
       "      <td>0</td>\n",
       "      <td>0</td>\n",
       "      <td>0</td>\n",
       "      <td>0</td>\n",
       "      <td>0</td>\n",
       "      <td>0</td>\n",
       "      <td>0</td>\n",
       "      <td>0</td>\n",
       "      <td>0</td>\n",
       "      <td>0</td>\n",
       "      <td>0</td>\n",
       "    </tr>\n",
       "    <tr>\n",
       "      <th>...</th>\n",
       "      <td>...</td>\n",
       "      <td>...</td>\n",
       "      <td>...</td>\n",
       "      <td>...</td>\n",
       "      <td>...</td>\n",
       "      <td>...</td>\n",
       "      <td>...</td>\n",
       "      <td>...</td>\n",
       "      <td>...</td>\n",
       "      <td>...</td>\n",
       "      <td>...</td>\n",
       "      <td>...</td>\n",
       "      <td>...</td>\n",
       "      <td>...</td>\n",
       "      <td>...</td>\n",
       "      <td>...</td>\n",
       "      <td>...</td>\n",
       "      <td>...</td>\n",
       "      <td>...</td>\n",
       "    </tr>\n",
       "    <tr>\n",
       "      <th>25957</th>\n",
       "      <td>0</td>\n",
       "      <td>0</td>\n",
       "      <td>0</td>\n",
       "      <td>0</td>\n",
       "      <td>0</td>\n",
       "      <td>0</td>\n",
       "      <td>0</td>\n",
       "      <td>0</td>\n",
       "      <td>1</td>\n",
       "      <td>0</td>\n",
       "      <td>0</td>\n",
       "      <td>0</td>\n",
       "      <td>0</td>\n",
       "      <td>0</td>\n",
       "      <td>0</td>\n",
       "      <td>0</td>\n",
       "      <td>0</td>\n",
       "      <td>0</td>\n",
       "      <td>0</td>\n",
       "    </tr>\n",
       "    <tr>\n",
       "      <th>25958</th>\n",
       "      <td>0</td>\n",
       "      <td>0</td>\n",
       "      <td>0</td>\n",
       "      <td>0</td>\n",
       "      <td>0</td>\n",
       "      <td>0</td>\n",
       "      <td>0</td>\n",
       "      <td>1</td>\n",
       "      <td>0</td>\n",
       "      <td>0</td>\n",
       "      <td>0</td>\n",
       "      <td>0</td>\n",
       "      <td>0</td>\n",
       "      <td>0</td>\n",
       "      <td>0</td>\n",
       "      <td>0</td>\n",
       "      <td>0</td>\n",
       "      <td>0</td>\n",
       "      <td>0</td>\n",
       "    </tr>\n",
       "    <tr>\n",
       "      <th>25959</th>\n",
       "      <td>0</td>\n",
       "      <td>0</td>\n",
       "      <td>0</td>\n",
       "      <td>0</td>\n",
       "      <td>0</td>\n",
       "      <td>0</td>\n",
       "      <td>0</td>\n",
       "      <td>1</td>\n",
       "      <td>0</td>\n",
       "      <td>0</td>\n",
       "      <td>0</td>\n",
       "      <td>0</td>\n",
       "      <td>0</td>\n",
       "      <td>0</td>\n",
       "      <td>0</td>\n",
       "      <td>0</td>\n",
       "      <td>0</td>\n",
       "      <td>0</td>\n",
       "      <td>0</td>\n",
       "    </tr>\n",
       "    <tr>\n",
       "      <th>25960</th>\n",
       "      <td>0</td>\n",
       "      <td>0</td>\n",
       "      <td>0</td>\n",
       "      <td>0</td>\n",
       "      <td>0</td>\n",
       "      <td>0</td>\n",
       "      <td>0</td>\n",
       "      <td>1</td>\n",
       "      <td>0</td>\n",
       "      <td>0</td>\n",
       "      <td>0</td>\n",
       "      <td>0</td>\n",
       "      <td>1</td>\n",
       "      <td>0</td>\n",
       "      <td>0</td>\n",
       "      <td>0</td>\n",
       "      <td>0</td>\n",
       "      <td>0</td>\n",
       "      <td>0</td>\n",
       "    </tr>\n",
       "    <tr>\n",
       "      <th>25961</th>\n",
       "      <td>0</td>\n",
       "      <td>0</td>\n",
       "      <td>0</td>\n",
       "      <td>0</td>\n",
       "      <td>0</td>\n",
       "      <td>0</td>\n",
       "      <td>0</td>\n",
       "      <td>0</td>\n",
       "      <td>0</td>\n",
       "      <td>0</td>\n",
       "      <td>0</td>\n",
       "      <td>0</td>\n",
       "      <td>1</td>\n",
       "      <td>0</td>\n",
       "      <td>0</td>\n",
       "      <td>0</td>\n",
       "      <td>0</td>\n",
       "      <td>0</td>\n",
       "      <td>0</td>\n",
       "    </tr>\n",
       "  </tbody>\n",
       "</table>\n",
       "<p>25962 rows × 19 columns</p>\n",
       "</div>"
      ],
      "text/plain": [
       "       fantasy  scifi  horror  sport  action  crime  biographical  comedy  \\\n",
       "0            0      0       0      0       0      0             0       0   \n",
       "1            0      0       0      0       0      0             0       1   \n",
       "2            0      0       0      0       1      1             0       0   \n",
       "3            0      0       0      0       0      0             1       0   \n",
       "4            0      0       0      0       0      0             0       1   \n",
       "...        ...    ...     ...    ...     ...    ...           ...     ...   \n",
       "25957        0      0       0      0       0      0             0       0   \n",
       "25958        0      0       0      0       0      0             0       1   \n",
       "25959        0      0       0      0       0      0             0       1   \n",
       "25960        0      0       0      0       0      0             0       1   \n",
       "25961        0      0       0      0       0      0             0       0   \n",
       "\n",
       "       drama  mystery  history  war  romance  thriller  western  adventure  \\\n",
       "0          0        0        0    0        0         0        1          0   \n",
       "1          0        0        0    0        0         0        0          0   \n",
       "2          0        0        0    0        0         0        1          0   \n",
       "3          0        0        0    0        0         0        0          0   \n",
       "4          0        0        0    0        0         0        0          0   \n",
       "...      ...      ...      ...  ...      ...       ...      ...        ...   \n",
       "25957      1        0        0    0        0         0        0          0   \n",
       "25958      0        0        0    0        0         0        0          0   \n",
       "25959      0        0        0    0        0         0        0          0   \n",
       "25960      0        0        0    0        1         0        0          0   \n",
       "25961      0        0        0    0        1         0        0          0   \n",
       "\n",
       "       documentary  music  animated  \n",
       "0                0      0         0  \n",
       "1                0      0         0  \n",
       "2                0      0         0  \n",
       "3                0      0         0  \n",
       "4                0      0         0  \n",
       "...            ...    ...       ...  \n",
       "25957            0      0         0  \n",
       "25958            0      0         0  \n",
       "25959            0      0         0  \n",
       "25960            0      0         0  \n",
       "25961            0      0         0  \n",
       "\n",
       "[25962 rows x 19 columns]"
      ]
     },
     "execution_count": 51,
     "metadata": {},
     "output_type": "execute_result"
    }
   ],
   "source": [
    "y_train"
   ]
  },
  {
   "cell_type": "markdown",
   "id": "356b57fa-6791-4460-8eee-4e7666656bf2",
   "metadata": {},
   "source": [
    "# Multi-label NB"
   ]
  },
  {
   "cell_type": "code",
   "execution_count": 52,
   "id": "234f4d32-38bd-4978-b36f-8c283e774e19",
   "metadata": {
    "tags": []
   },
   "outputs": [],
   "source": [
    "from sklearn.model_selection import train_test_split\n",
    "from sklearn.naive_bayes import MultinomialNB\n",
    "from sklearn.metrics import classification_report\n",
    "from sklearn.multioutput import MultiOutputClassifier\n",
    "\n",
    "X_train, X_test, y_train, y_test = train_test_split(X_train, y_train, test_size=0.2, random_state=42)\n",
    "clf = MultiOutputClassifier(MultinomialNB())\n",
    "clf.fit(X_train, y_train)\n",
    "y_pred = clf.predict(X_test)"
   ]
  },
  {
   "cell_type": "code",
   "execution_count": 53,
   "id": "79d59255-f892-4d00-8f1f-edd6f98fd7ba",
   "metadata": {
    "tags": []
   },
   "outputs": [
    {
     "name": "stdout",
     "output_type": "stream",
     "text": [
      "              precision    recall  f1-score   support\n",
      "\n",
      "     fantasy       0.00      0.00      0.00       122\n",
      "       scifi       1.00      0.01      0.02        79\n",
      "      horror       0.77      0.16      0.26       342\n",
      "       sport       0.00      0.00      0.00         1\n",
      "      action       0.82      0.03      0.06       485\n",
      "       crime       0.00      0.00      0.00       313\n",
      "biographical       0.00      0.00      0.00        71\n",
      "      comedy       0.78      0.18      0.29      1482\n",
      "       drama       0.68      0.36      0.47      1841\n",
      "     mystery       0.00      0.00      0.00        85\n",
      "     history       0.00      0.00      0.00         2\n",
      "         war       0.83      0.11      0.20       132\n",
      "     romance       0.67      0.01      0.02       537\n",
      "    thriller       0.00      0.00      0.00       366\n",
      "     western       0.94      0.17      0.28       186\n",
      "   adventure       0.00      0.00      0.00       177\n",
      " documentary       0.00      0.00      0.00        26\n",
      "       music       0.00      0.00      0.00         4\n",
      "    animated       1.00      0.09      0.16       203\n",
      "\n",
      "   micro avg       0.72      0.17      0.27      6454\n",
      "   macro avg       0.39      0.06      0.09      6454\n",
      "weighted avg       0.62      0.17      0.24      6454\n",
      " samples avg       0.20      0.19      0.19      6454\n",
      "\n"
     ]
    }
   ],
   "source": [
    "report = classification_report(y_test, y_pred, target_names=y_train.columns, zero_division=0)\n",
    "print(report)"
   ]
  },
  {
   "cell_type": "markdown",
   "id": "6036c4d4-28be-49cf-aaa4-11a232f780ae",
   "metadata": {},
   "source": [
    "## Genre-specific\n",
    "\n",
    "- The highest precision scores are for \"animated\" (1.00) and \"scifi\" (1.00), suggesting that when the model predicts these labels, it is often correct.\n",
    "- Other genres like \"comedy\" (0.78) and \"drama\" (0.68) have moderately high precision, while many others, including \"adventure,\" \"biographical,\" and \"crime,\" have precision scores of 0.00, indicating the model struggles to correctly identify these genres.\n",
    "- The highest recall scores are for \"drama\" (0.36) and \"comedy\" (0.18), suggesting the model is relatively better at identifying these genres compared to others.\n",
    "- Many genres, such as \"adventure,\" \"biographical,\" \"crime,\" and \"documentary,\" have recall scores of 0.00, indicating the model fails to identify any true instances of these genres.\n",
    "\n",
    "## Support\n",
    "\n",
    "This is the number of actual occurrences of each label in the test set.\n",
    "\n",
    "- Genres like \"drama\" (1841), \"comedy\" (1482), and \"action\" (485) have high support, meaning there are many instances of these labels in the test set.\n",
    "- Genres with low support, such as \"documentary\" (26) and \"history\" (2), may suffer from the model's inability to generalize well due to the limited number of instances.\n",
    "\n",
    "\n",
    "## Overall\n",
    "\n",
    "- The Naive Bayes model performs well for certain genres like \"drama\" and \"comedy\" but poorly for many others, especially those with low support or more specific labels.\n",
    "- There is a significant imbalance between precision and recall, with precision generally higher. This indicates the model makes fewer false positives but misses many true positives.\n",
    "- The overall performance, as indicated by the low macro and weighted F1-scores, suggests that the model struggles with multi-label classification in this context."
   ]
  }
 ],
 "metadata": {
  "colab": {
   "provenance": []
  },
  "kernelspec": {
   "display_name": "Python 3 (ipykernel)",
   "language": "python",
   "name": "python3"
  },
  "language_info": {
   "codemirror_mode": {
    "name": "ipython",
    "version": 3
   },
   "file_extension": ".py",
   "mimetype": "text/x-python",
   "name": "python",
   "nbconvert_exporter": "python",
   "pygments_lexer": "ipython3",
   "version": "3.11.5"
  }
 },
 "nbformat": 4,
 "nbformat_minor": 5
}
